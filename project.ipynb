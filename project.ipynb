{
 "cells": [
  {
   "cell_type": "markdown",
   "metadata": {},
   "source": [
    "### week 1\n"
   ]
  },
  {
   "cell_type": "code",
   "execution_count": 1,
   "metadata": {},
   "outputs": [],
   "source": [
    "import pandas as pd\n",
    "import numpy as np\n",
    "import matplotlib.pyplot as plt\n",
    "import seaborn as sns"
   ]
  },
  {
   "cell_type": "code",
   "execution_count": 2,
   "metadata": {},
   "outputs": [],
   "source": [
    "np.random.seed(42)\n",
    "n=100\n"
   ]
  },
  {
   "cell_type": "code",
   "execution_count": 3,
   "metadata": {},
   "outputs": [],
   "source": [
    "start_date=pd.to_datetime('today')-pd.Timedelta(days=180)\n",
    "end_date=pd.to_datetime('today')+pd.Timedelta(days=180)"
   ]
  },
  {
   "cell_type": "code",
   "execution_count": 4,
   "metadata": {},
   "outputs": [],
   "source": [
    "tasks = {\n",
    "    'Task ID': range(1, n + 1),\n",
    "    'Task Name': [f'Task {i}' for i in range(1, n + 1)],\n",
    "    'Description': ['Description of task ' + str(i) for i in range(1, n + 1)],\n",
    "    'Priority': np.random.choice(['High', 'Medium', 'Low'], size=n),\n",
    "    'Deadline': pd.to_datetime(np.random.choice(pd.date_range(start_date, end_date, freq='D'), size=n)), # Use the wider date range\n",
    "    'Status': np.random.choice(['To Do', 'In Progress', 'Completed'], size=n),\n",
    "    'Assignee': np.random.choice(['User1', 'User2', 'User3', 'User4'], size=n),\n",
    "    'Time Taken (hrs)': np.random.randint(1, 10, size=n)\n",
    "}\n"
   ]
  },
  {
   "cell_type": "code",
   "execution_count": 5,
   "metadata": {},
   "outputs": [
    {
     "data": {
      "text/html": [
       "<div>\n",
       "<style scoped>\n",
       "    .dataframe tbody tr th:only-of-type {\n",
       "        vertical-align: middle;\n",
       "    }\n",
       "\n",
       "    .dataframe tbody tr th {\n",
       "        vertical-align: top;\n",
       "    }\n",
       "\n",
       "    .dataframe thead th {\n",
       "        text-align: right;\n",
       "    }\n",
       "</style>\n",
       "<table border=\"1\" class=\"dataframe\">\n",
       "  <thead>\n",
       "    <tr style=\"text-align: right;\">\n",
       "      <th></th>\n",
       "      <th>Task ID</th>\n",
       "      <th>Task Name</th>\n",
       "      <th>Description</th>\n",
       "      <th>Priority</th>\n",
       "      <th>Deadline</th>\n",
       "      <th>Status</th>\n",
       "      <th>Assignee</th>\n",
       "      <th>Time Taken (hrs)</th>\n",
       "    </tr>\n",
       "  </thead>\n",
       "  <tbody>\n",
       "    <tr>\n",
       "      <th>0</th>\n",
       "      <td>1</td>\n",
       "      <td>Task 1</td>\n",
       "      <td>Description of task 1</td>\n",
       "      <td>Low</td>\n",
       "      <td>2025-04-05 15:39:26.474201</td>\n",
       "      <td>In Progress</td>\n",
       "      <td>User1</td>\n",
       "      <td>1</td>\n",
       "    </tr>\n",
       "    <tr>\n",
       "      <th>1</th>\n",
       "      <td>2</td>\n",
       "      <td>Task 2</td>\n",
       "      <td>Description of task 2</td>\n",
       "      <td>High</td>\n",
       "      <td>2025-01-22 15:39:26.474201</td>\n",
       "      <td>Completed</td>\n",
       "      <td>User4</td>\n",
       "      <td>9</td>\n",
       "    </tr>\n",
       "    <tr>\n",
       "      <th>2</th>\n",
       "      <td>3</td>\n",
       "      <td>Task 3</td>\n",
       "      <td>Description of task 3</td>\n",
       "      <td>Low</td>\n",
       "      <td>2025-04-08 15:39:26.474201</td>\n",
       "      <td>To Do</td>\n",
       "      <td>User4</td>\n",
       "      <td>6</td>\n",
       "    </tr>\n",
       "    <tr>\n",
       "      <th>3</th>\n",
       "      <td>4</td>\n",
       "      <td>Task 4</td>\n",
       "      <td>Description of task 4</td>\n",
       "      <td>Low</td>\n",
       "      <td>2025-02-09 15:39:26.474201</td>\n",
       "      <td>To Do</td>\n",
       "      <td>User4</td>\n",
       "      <td>7</td>\n",
       "    </tr>\n",
       "    <tr>\n",
       "      <th>4</th>\n",
       "      <td>5</td>\n",
       "      <td>Task 5</td>\n",
       "      <td>Description of task 5</td>\n",
       "      <td>High</td>\n",
       "      <td>2025-05-02 15:39:26.474201</td>\n",
       "      <td>To Do</td>\n",
       "      <td>User4</td>\n",
       "      <td>7</td>\n",
       "    </tr>\n",
       "  </tbody>\n",
       "</table>\n",
       "</div>"
      ],
      "text/plain": [
       "   Task ID Task Name            Description Priority  \\\n",
       "0        1    Task 1  Description of task 1      Low   \n",
       "1        2    Task 2  Description of task 2     High   \n",
       "2        3    Task 3  Description of task 3      Low   \n",
       "3        4    Task 4  Description of task 4      Low   \n",
       "4        5    Task 5  Description of task 5     High   \n",
       "\n",
       "                    Deadline       Status Assignee  Time Taken (hrs)  \n",
       "0 2025-04-05 15:39:26.474201  In Progress    User1                 1  \n",
       "1 2025-01-22 15:39:26.474201    Completed    User4                 9  \n",
       "2 2025-04-08 15:39:26.474201        To Do    User4                 6  \n",
       "3 2025-02-09 15:39:26.474201        To Do    User4                 7  \n",
       "4 2025-05-02 15:39:26.474201        To Do    User4                 7  "
      ]
     },
     "execution_count": 5,
     "metadata": {},
     "output_type": "execute_result"
    }
   ],
   "source": [
    "df=pd.DataFrame(tasks)\n",
    "df.head()"
   ]
  },
  {
   "cell_type": "code",
   "execution_count": 6,
   "metadata": {},
   "outputs": [
    {
     "data": {
      "text/plain": [
       "(100, 8)"
      ]
     },
     "execution_count": 6,
     "metadata": {},
     "output_type": "execute_result"
    }
   ],
   "source": [
    "df.shape"
   ]
  },
  {
   "cell_type": "markdown",
   "metadata": {},
   "source": [
    "####EDA & CLEANING"
   ]
  },
  {
   "cell_type": "code",
   "execution_count": 7,
   "metadata": {},
   "outputs": [
    {
     "name": "stdout",
     "output_type": "stream",
     "text": [
      "<class 'pandas.core.frame.DataFrame'>\n",
      "RangeIndex: 100 entries, 0 to 99\n",
      "Data columns (total 8 columns):\n",
      " #   Column            Non-Null Count  Dtype         \n",
      "---  ------            --------------  -----         \n",
      " 0   Task ID           100 non-null    int64         \n",
      " 1   Task Name         100 non-null    object        \n",
      " 2   Description       100 non-null    object        \n",
      " 3   Priority          100 non-null    object        \n",
      " 4   Deadline          100 non-null    datetime64[ns]\n",
      " 5   Status            100 non-null    object        \n",
      " 6   Assignee          100 non-null    object        \n",
      " 7   Time Taken (hrs)  100 non-null    int32         \n",
      "dtypes: datetime64[ns](1), int32(1), int64(1), object(5)\n",
      "memory usage: 6.0+ KB\n"
     ]
    },
    {
     "data": {
      "text/html": [
       "<div>\n",
       "<style scoped>\n",
       "    .dataframe tbody tr th:only-of-type {\n",
       "        vertical-align: middle;\n",
       "    }\n",
       "\n",
       "    .dataframe tbody tr th {\n",
       "        vertical-align: top;\n",
       "    }\n",
       "\n",
       "    .dataframe thead th {\n",
       "        text-align: right;\n",
       "    }\n",
       "</style>\n",
       "<table border=\"1\" class=\"dataframe\">\n",
       "  <thead>\n",
       "    <tr style=\"text-align: right;\">\n",
       "      <th></th>\n",
       "      <th>Task ID</th>\n",
       "      <th>Deadline</th>\n",
       "      <th>Time Taken (hrs)</th>\n",
       "    </tr>\n",
       "  </thead>\n",
       "  <tbody>\n",
       "    <tr>\n",
       "      <th>count</th>\n",
       "      <td>100.000000</td>\n",
       "      <td>100</td>\n",
       "      <td>100.000000</td>\n",
       "    </tr>\n",
       "    <tr>\n",
       "      <th>mean</th>\n",
       "      <td>50.500000</td>\n",
       "      <td>2025-05-22 04:37:02.474201088</td>\n",
       "      <td>4.820000</td>\n",
       "    </tr>\n",
       "    <tr>\n",
       "      <th>min</th>\n",
       "      <td>1.000000</td>\n",
       "      <td>2024-11-25 15:39:26.474201</td>\n",
       "      <td>1.000000</td>\n",
       "    </tr>\n",
       "    <tr>\n",
       "      <th>25%</th>\n",
       "      <td>25.750000</td>\n",
       "      <td>2025-02-26 21:39:26.474201088</td>\n",
       "      <td>3.000000</td>\n",
       "    </tr>\n",
       "    <tr>\n",
       "      <th>50%</th>\n",
       "      <td>50.500000</td>\n",
       "      <td>2025-05-23 03:39:26.474201088</td>\n",
       "      <td>5.000000</td>\n",
       "    </tr>\n",
       "    <tr>\n",
       "      <th>75%</th>\n",
       "      <td>75.250000</td>\n",
       "      <td>2025-08-07 03:39:26.474201088</td>\n",
       "      <td>7.000000</td>\n",
       "    </tr>\n",
       "    <tr>\n",
       "      <th>max</th>\n",
       "      <td>100.000000</td>\n",
       "      <td>2025-11-15 15:39:26.474201</td>\n",
       "      <td>9.000000</td>\n",
       "    </tr>\n",
       "    <tr>\n",
       "      <th>std</th>\n",
       "      <td>29.011492</td>\n",
       "      <td>NaN</td>\n",
       "      <td>2.471576</td>\n",
       "    </tr>\n",
       "  </tbody>\n",
       "</table>\n",
       "</div>"
      ],
      "text/plain": [
       "          Task ID                       Deadline  Time Taken (hrs)\n",
       "count  100.000000                            100        100.000000\n",
       "mean    50.500000  2025-05-22 04:37:02.474201088          4.820000\n",
       "min      1.000000     2024-11-25 15:39:26.474201          1.000000\n",
       "25%     25.750000  2025-02-26 21:39:26.474201088          3.000000\n",
       "50%     50.500000  2025-05-23 03:39:26.474201088          5.000000\n",
       "75%     75.250000  2025-08-07 03:39:26.474201088          7.000000\n",
       "max    100.000000     2025-11-15 15:39:26.474201          9.000000\n",
       "std     29.011492                            NaN          2.471576"
      ]
     },
     "execution_count": 7,
     "metadata": {},
     "output_type": "execute_result"
    }
   ],
   "source": [
    "df.info()\n",
    "df.describe()"
   ]
  },
  {
   "cell_type": "code",
   "execution_count": 8,
   "metadata": {},
   "outputs": [
    {
     "data": {
      "text/plain": [
       "Task ID             0\n",
       "Task Name           0\n",
       "Description         0\n",
       "Priority            0\n",
       "Deadline            0\n",
       "Status              0\n",
       "Assignee            0\n",
       "Time Taken (hrs)    0\n",
       "dtype: int64"
      ]
     },
     "execution_count": 8,
     "metadata": {},
     "output_type": "execute_result"
    }
   ],
   "source": [
    "df.isnull().sum()"
   ]
  },
  {
   "cell_type": "code",
   "execution_count": 9,
   "metadata": {},
   "outputs": [
    {
     "data": {
      "text/plain": [
       "Index(['Task ID', 'Task Name', 'Description', 'Priority', 'Deadline', 'Status',\n",
       "       'Assignee', 'Time Taken (hrs)'],\n",
       "      dtype='object')"
      ]
     },
     "execution_count": 9,
     "metadata": {},
     "output_type": "execute_result"
    }
   ],
   "source": [
    "df.columns"
   ]
  },
  {
   "cell_type": "code",
   "execution_count": 10,
   "metadata": {},
   "outputs": [
    {
     "data": {
      "image/png": "[encoded data removed]",
      "text/plain": [
       "<Figure size 640x480 with 1 Axes>"
      ]
     },
     "metadata": {},
     "output_type": "display_data"
    }
   ],
   "source": [
    "sns.countplot(x='Status',data=df)\n",
    "plt.title(\"show task status\")\n",
    "plt.show()"
   ]
  },
  {
   "cell_type": "code",
   "execution_count": 11,
   "metadata": {},
   "outputs": [],
   "source": [
    "# Priority=list(df['Priority'].value_counts().keys())        # CATAGORICAL\n",
    "# Deadline=list(df['Deadline'].value_counts().values)  "
   ]
  },
  {
   "cell_type": "code",
   "execution_count": 12,
   "metadata": {},
   "outputs": [],
   "source": [
    "# plt.bar(Priority,Deadline,color='green',lw=2,width=0.8)\n",
    "# plt.xlabel(Priority)\n",
    "# plt.ylabel(Deadline)\n",
    "# plt.xticks(rotation=90)\n",
    "# plt.show()"
   ]
  },
  {
   "cell_type": "code",
   "execution_count": 13,
   "metadata": {},
   "outputs": [
    {
     "data": {
      "image/png": "[encoded data removed]",
      "text/plain": [
       "<Figure size 640x480 with 1 Axes>"
      ]
     },
     "metadata": {},
     "output_type": "display_data"
    }
   ],
   "source": [
    "sns.countplot(x='Priority',data=df)\n",
    "plt.title(\"priority distribution\")\n",
    "plt.show()"
   ]
  },
  {
   "cell_type": "code",
   "execution_count": 14,
   "metadata": {},
   "outputs": [
    {
     "data": {
      "image/png": "[encoded data removed]",
      "text/plain": [
       "<Figure size 640x480 with 1 Axes>"
      ]
     },
     "metadata": {},
     "output_type": "display_data"
    }
   ],
   "source": [
    "sns.countplot(x='Assignee', data=df)\n",
    "plt.title('Task Assignment Distribution')\n",
    "plt.show()\n"
   ]
  },
  {
   "cell_type": "code",
   "execution_count": 15,
   "metadata": {},
   "outputs": [
    {
     "data": {
      "text/html": [
       "<div>\n",
       "<style scoped>\n",
       "    .dataframe tbody tr th:only-of-type {\n",
       "        vertical-align: middle;\n",
       "    }\n",
       "\n",
       "    .dataframe tbody tr th {\n",
       "        vertical-align: top;\n",
       "    }\n",
       "\n",
       "    .dataframe thead th {\n",
       "        text-align: right;\n",
       "    }\n",
       "</style>\n",
       "<table border=\"1\" class=\"dataframe\">\n",
       "  <thead>\n",
       "    <tr style=\"text-align: right;\">\n",
       "      <th></th>\n",
       "      <th>Task ID</th>\n",
       "      <th>Task Name</th>\n",
       "      <th>Description</th>\n",
       "      <th>Priority</th>\n",
       "      <th>Deadline</th>\n",
       "      <th>Status</th>\n",
       "      <th>Assignee</th>\n",
       "      <th>Time Taken (hrs)</th>\n",
       "    </tr>\n",
       "  </thead>\n",
       "  <tbody>\n",
       "  </tbody>\n",
       "</table>\n",
       "</div>"
      ],
      "text/plain": [
       "Empty DataFrame\n",
       "Columns: [Task ID, Task Name, Description, Priority, Deadline, Status, Assignee, Time Taken (hrs)]\n",
       "Index: []"
      ]
     },
     "execution_count": 15,
     "metadata": {},
     "output_type": "execute_result"
    }
   ],
   "source": [
    "duplicates=df[df.duplicated()]\n",
    "duplicates"
   ]
  },
  {
   "cell_type": "code",
   "execution_count": 16,
   "metadata": {},
   "outputs": [
    {
     "data": {
      "text/plain": [
       "(100, 8)"
      ]
     },
     "execution_count": 16,
     "metadata": {},
     "output_type": "execute_result"
    }
   ],
   "source": [
    "df.drop_duplicates(inplace=True)\n",
    "df.shape"
   ]
  },
  {
   "cell_type": "code",
   "execution_count": 17,
   "metadata": {},
   "outputs": [
    {
     "name": "stderr",
     "output_type": "stream",
     "text": [
      "C:\\Users\\hp\\AppData\\Local\\Temp\\ipykernel_9312\\4020413469.py:1: FutureWarning: A value is trying to be set on a copy of a DataFrame or Series through chained assignment using an inplace method.\n",
      "The behavior will change in pandas 3.0. This inplace method will never work because the intermediate object on which we are setting values always behaves as a copy.\n",
      "\n",
      "For example, when doing 'df[col].method(value, inplace=True)', try using 'df.method({col: value}, inplace=True)' or df[col] = df[col].method(value) instead, to perform the operation inplace on the original object.\n",
      "\n",
      "\n",
      "  df['Assignee'].fillna('Unassigned', inplace=True)\n",
      "C:\\Users\\hp\\AppData\\Local\\Temp\\ipykernel_9312\\4020413469.py:2: FutureWarning: A value is trying to be set on a copy of a DataFrame or Series through chained assignment using an inplace method.\n",
      "The behavior will change in pandas 3.0. This inplace method will never work because the intermediate object on which we are setting values always behaves as a copy.\n",
      "\n",
      "For example, when doing 'df[col].method(value, inplace=True)', try using 'df.method({col: value}, inplace=True)' or df[col] = df[col].method(value) instead, to perform the operation inplace on the original object.\n",
      "\n",
      "\n",
      "  df['Description'].fillna('No Description', inplace=True)\n"
     ]
    }
   ],
   "source": [
    "df['Assignee'].fillna('Unassigned', inplace=True)\n",
    "df['Description'].fillna('No Description', inplace=True)"
   ]
  },
  {
   "cell_type": "code",
   "execution_count": 18,
   "metadata": {},
   "outputs": [
    {
     "name": "stderr",
     "output_type": "stream",
     "text": [
      "C:\\Users\\hp\\AppData\\Local\\Temp\\ipykernel_9312\\1898176109.py:1: FutureWarning: A value is trying to be set on a copy of a DataFrame or Series through chained assignment using an inplace method.\n",
      "The behavior will change in pandas 3.0. This inplace method will never work because the intermediate object on which we are setting values always behaves as a copy.\n",
      "\n",
      "For example, when doing 'df[col].method(value, inplace=True)', try using 'df.method({col: value}, inplace=True)' or df[col] = df[col].method(value) instead, to perform the operation inplace on the original object.\n",
      "\n",
      "\n",
      "  df['Deadline'].fillna(pd.to_datetime('2023-12-31'),inplace=True)\n"
     ]
    }
   ],
   "source": [
    "df['Deadline'].fillna(pd.to_datetime('2023-12-31'),inplace=True)\n",
    "df['Deadline']=pd.to_datetime(df['Deadline'])"
   ]
  },
  {
   "cell_type": "code",
   "execution_count": 19,
   "metadata": {},
   "outputs": [
    {
     "name": "stdout",
     "output_type": "stream",
     "text": [
      "Task ID             0\n",
      "Task Name           0\n",
      "Description         0\n",
      "Priority            0\n",
      "Deadline            0\n",
      "Status              0\n",
      "Assignee            0\n",
      "Time Taken (hrs)    0\n",
      "dtype: int64\n",
      "   Task ID Task Name            Description Priority  \\\n",
      "0        1    Task 1  Description of task 1      Low   \n",
      "1        2    Task 2  Description of task 2     High   \n",
      "2        3    Task 3  Description of task 3      Low   \n",
      "3        4    Task 4  Description of task 4      Low   \n",
      "4        5    Task 5  Description of task 5     High   \n",
      "\n",
      "                    Deadline       Status Assignee  Time Taken (hrs)  \n",
      "0 2025-04-05 15:39:26.474201  In Progress    User1                 1  \n",
      "1 2025-01-22 15:39:26.474201    Completed    User4                 9  \n",
      "2 2025-04-08 15:39:26.474201        To Do    User4                 6  \n",
      "3 2025-02-09 15:39:26.474201        To Do    User4                 7  \n",
      "4 2025-05-02 15:39:26.474201        To Do    User4                 7  \n"
     ]
    }
   ],
   "source": [
    "print(df.isnull().sum())\n",
    "print(df.head())"
   ]
  },
  {
   "cell_type": "code",
   "execution_count": 20,
   "metadata": {},
   "outputs": [
    {
     "data": {
      "text/html": [
       "<div>\n",
       "<style scoped>\n",
       "    .dataframe tbody tr th:only-of-type {\n",
       "        vertical-align: middle;\n",
       "    }\n",
       "\n",
       "    .dataframe tbody tr th {\n",
       "        vertical-align: top;\n",
       "    }\n",
       "\n",
       "    .dataframe thead th {\n",
       "        text-align: right;\n",
       "    }\n",
       "</style>\n",
       "<table border=\"1\" class=\"dataframe\">\n",
       "  <thead>\n",
       "    <tr style=\"text-align: right;\">\n",
       "      <th></th>\n",
       "      <th>Task ID</th>\n",
       "      <th>Task Name</th>\n",
       "      <th>Description</th>\n",
       "      <th>Priority</th>\n",
       "      <th>Deadline</th>\n",
       "      <th>Status</th>\n",
       "      <th>Assignee</th>\n",
       "      <th>Time Taken (hrs)</th>\n",
       "      <th>Overdue</th>\n",
       "      <th>Days Until Deadline</th>\n",
       "    </tr>\n",
       "  </thead>\n",
       "  <tbody>\n",
       "    <tr>\n",
       "      <th>0</th>\n",
       "      <td>1</td>\n",
       "      <td>Task 1</td>\n",
       "      <td>Description of task 1</td>\n",
       "      <td>Low</td>\n",
       "      <td>2025-04-05 15:39:26.474201</td>\n",
       "      <td>In Progress</td>\n",
       "      <td>User1</td>\n",
       "      <td>1</td>\n",
       "      <td>True</td>\n",
       "      <td>-46</td>\n",
       "    </tr>\n",
       "    <tr>\n",
       "      <th>1</th>\n",
       "      <td>2</td>\n",
       "      <td>Task 2</td>\n",
       "      <td>Description of task 2</td>\n",
       "      <td>High</td>\n",
       "      <td>2025-01-22 15:39:26.474201</td>\n",
       "      <td>Completed</td>\n",
       "      <td>User4</td>\n",
       "      <td>9</td>\n",
       "      <td>True</td>\n",
       "      <td>-119</td>\n",
       "    </tr>\n",
       "    <tr>\n",
       "      <th>2</th>\n",
       "      <td>3</td>\n",
       "      <td>Task 3</td>\n",
       "      <td>Description of task 3</td>\n",
       "      <td>Low</td>\n",
       "      <td>2025-04-08 15:39:26.474201</td>\n",
       "      <td>To Do</td>\n",
       "      <td>User4</td>\n",
       "      <td>6</td>\n",
       "      <td>True</td>\n",
       "      <td>-43</td>\n",
       "    </tr>\n",
       "    <tr>\n",
       "      <th>3</th>\n",
       "      <td>4</td>\n",
       "      <td>Task 4</td>\n",
       "      <td>Description of task 4</td>\n",
       "      <td>Low</td>\n",
       "      <td>2025-02-09 15:39:26.474201</td>\n",
       "      <td>To Do</td>\n",
       "      <td>User4</td>\n",
       "      <td>7</td>\n",
       "      <td>True</td>\n",
       "      <td>-101</td>\n",
       "    </tr>\n",
       "    <tr>\n",
       "      <th>4</th>\n",
       "      <td>5</td>\n",
       "      <td>Task 5</td>\n",
       "      <td>Description of task 5</td>\n",
       "      <td>High</td>\n",
       "      <td>2025-05-02 15:39:26.474201</td>\n",
       "      <td>To Do</td>\n",
       "      <td>User4</td>\n",
       "      <td>7</td>\n",
       "      <td>True</td>\n",
       "      <td>-19</td>\n",
       "    </tr>\n",
       "  </tbody>\n",
       "</table>\n",
       "</div>"
      ],
      "text/plain": [
       "   Task ID Task Name            Description Priority  \\\n",
       "0        1    Task 1  Description of task 1      Low   \n",
       "1        2    Task 2  Description of task 2     High   \n",
       "2        3    Task 3  Description of task 3      Low   \n",
       "3        4    Task 4  Description of task 4      Low   \n",
       "4        5    Task 5  Description of task 5     High   \n",
       "\n",
       "                    Deadline       Status Assignee  Time Taken (hrs)  Overdue  \\\n",
       "0 2025-04-05 15:39:26.474201  In Progress    User1                 1     True   \n",
       "1 2025-01-22 15:39:26.474201    Completed    User4                 9     True   \n",
       "2 2025-04-08 15:39:26.474201        To Do    User4                 6     True   \n",
       "3 2025-02-09 15:39:26.474201        To Do    User4                 7     True   \n",
       "4 2025-05-02 15:39:26.474201        To Do    User4                 7     True   \n",
       "\n",
       "   Days Until Deadline  \n",
       "0                  -46  \n",
       "1                 -119  \n",
       "2                  -43  \n",
       "3                 -101  \n",
       "4                  -19  "
      ]
     },
     "execution_count": 20,
     "metadata": {},
     "output_type": "execute_result"
    }
   ],
   "source": [
    "df['Overdue'] = df['Deadline'] < pd.to_datetime('today')\n",
    "df['Days Until Deadline'] = (df['Deadline'] - pd.to_datetime('today')).dt.days\n",
    "df.head()"
   ]
  },
  {
   "cell_type": "markdown",
   "metadata": {},
   "source": [
    "### nlp"
   ]
  },
  {
   "cell_type": "code",
   "execution_count": 21,
   "metadata": {},
   "outputs": [],
   "source": [
    "import nltk\n",
    "import os"
   ]
  },
  {
   "cell_type": "code",
   "execution_count": 22,
   "metadata": {},
   "outputs": [],
   "source": [
    "nltk_path=\"/tmp/nltk_data\"\n",
    "os.makedirs(nltk_path,exist_ok=True)"
   ]
  },
  {
   "cell_type": "code",
   "execution_count": 23,
   "metadata": {},
   "outputs": [
    {
     "name": "stderr",
     "output_type": "stream",
     "text": [
      "[nltk_data] Downloading package punkt to /tmp/nltk_data...\n",
      "[nltk_data]   Package punkt is already up-to-date!\n",
      "[nltk_data] Downloading package stopwords to /tmp/nltk_data...\n",
      "[nltk_data]   Package stopwords is already up-to-date!\n"
     ]
    },
    {
     "data": {
      "text/plain": [
       "True"
      ]
     },
     "execution_count": 23,
     "metadata": {},
     "output_type": "execute_result"
    }
   ],
   "source": [
    "nltk.download('punkt', download_dir=nltk_path)\n",
    "nltk.download('stopwords', download_dir=nltk_path)"
   ]
  },
  {
   "cell_type": "code",
   "execution_count": 24,
   "metadata": {},
   "outputs": [],
   "source": [
    "nltk.data.path.append(nltk_path)"
   ]
  },
  {
   "cell_type": "code",
   "execution_count": 25,
   "metadata": {},
   "outputs": [],
   "source": [
    "from nltk.tokenize import word_tokenize\n",
    "from nltk.corpus import stopwords\n",
    "from nltk.stem import PorterStemmer"
   ]
  },
  {
   "cell_type": "code",
   "execution_count": 28,
   "metadata": {},
   "outputs": [
    {
     "data": {
      "image/png": "[encoded data removed]",
      "text/plain": [
       "<Figure size 800x500 with 1 Axes>"
      ]
     },
     "metadata": {},
     "output_type": "display_data"
    },
    {
     "data": {
      "image/png": "[encoded data removed]",
      "text/plain": [
       "<Figure size 800x500 with 1 Axes>"
      ]
     },
     "metadata": {},
     "output_type": "display_data"
    }
   ],
   "source": [
    "plt.figure(figsize=(8, 5))\n",
    "sns.histplot(df['Time Taken (hrs)'], kde=True)\n",
    "plt.title('Distribution of Time Taken (hours)')\n",
    "plt.xlabel('Time Taken (hrs)')\n",
    "plt.ylabel('Frequency')\n",
    "plt.show()\n",
    "\n",
    "# Visualize time taken using box plot to identify quartiles and outliers\n",
    "plt.figure(figsize=(8, 5))\n",
    "sns.boxplot(x=df['Time Taken (hrs)'])\n",
    "plt.title('Box Plot of Time Taken (hours)')\n",
    "plt.xlabel('Time Taken (hrs)')\n",
    "plt.show()"
   ]
  },
  {
   "cell_type": "code",
   "execution_count": 26,
   "metadata": {},
   "outputs": [],
   "source": [
    "stop_words = set(stopwords.words('english'))\n",
    "porter_stemmer = PorterStemmer()"
   ]
  },
  {
   "cell_type": "code",
   "execution_count": 27,
   "metadata": {},
   "outputs": [],
   "source": [
    "def preprocess_text(text):\n",
    "    # 1. Convert text to lowercase\n",
    "    text = text.lower()\n",
    "\n",
    "    # 2. Tokenize the text\n",
    "    tokens = word_tokenize(text)\n",
    "\n",
    "    # 3. Filter tokens (keep alphabetic words and remove stopwords)\n",
    "    filtered_tokens = [\n",
    "        word for word in tokens\n",
    "        if word.isalpha() and word not in stop_words\n",
    "    ]\n",
    "\n",
    "    # 4. Apply stemming\n",
    "    stemmed_tokens = [porter_stemmer.stem(word) for word in filtered_tokens]\n",
    "\n",
    "    # 5. Join the stemmed tokens back into a string\n",
    "    return ' '.join(stemmed_tokens)"
   ]
  },
  {
   "cell_type": "code",
   "execution_count": 29,
   "metadata": {},
   "outputs": [
    {
     "name": "stderr",
     "output_type": "stream",
     "text": [
      "[nltk_data] Downloading package punkt to /tmp/nltk_data...\n",
      "[nltk_data]   Package punkt is already up-to-date!\n",
      "[nltk_data] Downloading package stopwords to /tmp/nltk_data...\n",
      "[nltk_data]   Package stopwords is already up-to-date!\n",
      "[nltk_data] Downloading package punkt_tab to /tmp/nltk_data...\n",
      "[nltk_data]   Package punkt_tab is already up-to-date!\n"
     ]
    }
   ],
   "source": [
    "import nltk\n",
    "import os\n",
    "\n",
    "nltk_path = \"/tmp/nltk_data\"\n",
    "os.makedirs(nltk_path, exist_ok=True)\n",
    "\n",
    "nltk.download('punkt', download_dir=nltk_path)\n",
    "nltk.download('stopwords', download_dir=nltk_path)\n",
    "nltk.download('punkt_tab', download_dir=nltk_path)\n",
    "\n",
    "nltk.data.path.append(nltk_path)\n"
   ]
  },
  {
   "cell_type": "code",
   "execution_count": 30,
   "metadata": {},
   "outputs": [
    {
     "name": "stdout",
     "output_type": "stream",
     "text": [
      "['descript' 'task']\n",
      "Naive Bayes Classification Report:\n",
      "              precision    recall  f1-score   support\n",
      "\n",
      "     On Time       0.00      0.00      0.00        19\n",
      "     Overdue       0.37      1.00      0.54        11\n",
      "\n",
      "    accuracy                           0.37        30\n",
      "   macro avg       0.18      0.50      0.27        30\n",
      "weighted avg       0.13      0.37      0.20        30\n",
      "\n",
      "SVM Classification Report:\n",
      "              precision    recall  f1-score   support\n",
      "\n",
      "     On Time       0.00      0.00      0.00        19\n",
      "     Overdue       0.37      1.00      0.54        11\n",
      "\n",
      "    accuracy                           0.37        30\n",
      "   macro avg       0.18      0.50      0.27        30\n",
      "weighted avg       0.13      0.37      0.20        30\n",
      "\n",
      "Category\n",
      "Overdue    39\n",
      "On Time    31\n",
      "Name: count, dtype: int64\n",
      "Category\n",
      "Overdue    50\n",
      "On Time    50\n",
      "Name: count, dtype: int64\n"
     ]
    },
    {
     "name": "stderr",
     "output_type": "stream",
     "text": [
      "c:\\Users\\hp\\AppData\\Local\\Programs\\Python\\Python312\\Lib\\site-packages\\sklearn\\metrics\\_classification.py:1517: UndefinedMetricWarning: Precision is ill-defined and being set to 0.0 in labels with no predicted samples. Use `zero_division` parameter to control this behavior.\n",
      "  _warn_prf(average, modifier, f\"{metric.capitalize()} is\", len(result))\n",
      "c:\\Users\\hp\\AppData\\Local\\Programs\\Python\\Python312\\Lib\\site-packages\\sklearn\\metrics\\_classification.py:1517: UndefinedMetricWarning: Precision is ill-defined and being set to 0.0 in labels with no predicted samples. Use `zero_division` parameter to control this behavior.\n",
      "  _warn_prf(average, modifier, f\"{metric.capitalize()} is\", len(result))\n",
      "c:\\Users\\hp\\AppData\\Local\\Programs\\Python\\Python312\\Lib\\site-packages\\sklearn\\metrics\\_classification.py:1517: UndefinedMetricWarning: Precision is ill-defined and being set to 0.0 in labels with no predicted samples. Use `zero_division` parameter to control this behavior.\n",
      "  _warn_prf(average, modifier, f\"{metric.capitalize()} is\", len(result))\n",
      "c:\\Users\\hp\\AppData\\Local\\Programs\\Python\\Python312\\Lib\\site-packages\\sklearn\\metrics\\_classification.py:1517: UndefinedMetricWarning: Precision is ill-defined and being set to 0.0 in labels with no predicted samples. Use `zero_division` parameter to control this behavior.\n",
      "  _warn_prf(average, modifier, f\"{metric.capitalize()} is\", len(result))\n",
      "c:\\Users\\hp\\AppData\\Local\\Programs\\Python\\Python312\\Lib\\site-packages\\sklearn\\metrics\\_classification.py:1517: UndefinedMetricWarning: Precision is ill-defined and being set to 0.0 in labels with no predicted samples. Use `zero_division` parameter to control this behavior.\n",
      "  _warn_prf(average, modifier, f\"{metric.capitalize()} is\", len(result))\n",
      "c:\\Users\\hp\\AppData\\Local\\Programs\\Python\\Python312\\Lib\\site-packages\\sklearn\\metrics\\_classification.py:1517: UndefinedMetricWarning: Precision is ill-defined and being set to 0.0 in labels with no predicted samples. Use `zero_division` parameter to control this behavior.\n",
      "  _warn_prf(average, modifier, f\"{metric.capitalize()} is\", len(result))\n"
     ]
    }
   ],
   "source": [
    "# Apply NLP preprocessing function to 'Description' column\n",
    "# Create new column 'Processed_Description' with cleaned and stemmed text\n",
    "# Display original and processed descriptions for comparison\n",
    "df['Processed_Description'] = df['Description'].apply(preprocess_text)\n",
    "df[['Description', 'Processed_Description']].head()\n",
    "# Perform TF-IDF feature extraction on processed text\n",
    "# Limit features to 500 for manageability\n",
    "# Fit and transform 'Processed_Description' to TF-IDF matrix and convert to dense array\n",
    "# Print the TF-IDF feature names\n",
    "from sklearn.feature_extraction.text import TfidfVectorizer\n",
    "\n",
    "tfidf_vectorizer = TfidfVectorizer(max_features=500)\n",
    "X_tfidf = tfidf_vectorizer.fit_transform(df['Processed_Description'])\n",
    "X_tfidf_array = X_tfidf.toarray()\n",
    "\n",
    "print(tfidf_vectorizer.get_feature_names_out())\n",
    "\n",
    "# %%\n",
    "# Prepare dataset for model training\n",
    "# Create target variable 'Category' based on 'Overdue' status\n",
    "# Split features and target into train and test sets (70% train, 30% test)\n",
    "from sklearn.model_selection import train_test_split\n",
    "\n",
    "df['Category'] = df['Overdue'].apply(lambda x: 'Overdue' if x else 'On Time')\n",
    "\n",
    "X_train, X_test, y_train, y_test = train_test_split(\n",
    "    X_tfidf_array, df['Category'], test_size=0.3, random_state=42\n",
    ")\n",
    "\n",
    "# %%\n",
    "# Train and evaluate a Multinomial Naive Bayes classifier\n",
    "# Print classification metrics and accuracy on the test set\n",
    "from sklearn.naive_bayes import MultinomialNB\n",
    "from sklearn.metrics import classification_report, accuracy_score\n",
    "\n",
    "nb_model = MultinomialNB()\n",
    "nb_model.fit(X_train, y_train)\n",
    "\n",
    "y_pred_nb = nb_model.predict(X_test)\n",
    "\n",
    "print(\"Naive Bayes Classification Report:\")\n",
    "print(classification_report(y_test, y_pred_nb))\n",
    "\n",
    "# %%\n",
    "# Train and evaluate a Support Vector Machine (SVM) classifier with linear kernel\n",
    "# Check if training data contains at least two classes (required for SVM)\n",
    "# If so, train model and print classification report on test data\n",
    "from sklearn.svm import SVC\n",
    "from sklearn.metrics import classification_report, accuracy_score\n",
    "import numpy as np\n",
    "\n",
    "svm_model = SVC(kernel='linear')\n",
    "unique_classes = np.unique(y_train)\n",
    "\n",
    "if len(unique_classes) < 2:\n",
    "    print(f\"Skipping SVM training: Only one class found in training data: {unique_classes[0]}\")\n",
    "else:\n",
    "    svm_model.fit(X_train, y_train)\n",
    "    y_pred_svm = svm_model.predict(X_test)\n",
    "    print(\"SVM Classification Report:\")\n",
    "    print(classification_report(y_test, y_pred_svm))\n",
    "\n",
    "# %%\n",
    "# Display class distribution in the training set\n",
    "print(y_train.value_counts())\n",
    "\n",
    "# %%\n",
    "# Display class distribution in the entire dataset\n",
    "print(df['Category'].value_counts())"
   ]
  },
  {
   "cell_type": "code",
   "execution_count": 31,
   "metadata": {},
   "outputs": [
    {
     "name": "stdout",
     "output_type": "stream",
     "text": [
      "Shape of X_train: (70, 8)\n",
      "Shape of y_train: (70,)\n",
      "\n",
      "Value counts in y_train after splitting:\n",
      "Category\n",
      "Overdue    35\n",
      "On Time    35\n",
      "Name: count, dtype: int64\n",
      "SVM Classification Report:\n",
      "              precision    recall  f1-score   support\n",
      "\n",
      "     On Time       0.94      1.00      0.97        15\n",
      "     Overdue       1.00      0.93      0.97        15\n",
      "\n",
      "    accuracy                           0.97        30\n",
      "   macro avg       0.97      0.97      0.97        30\n",
      "weighted avg       0.97      0.97      0.97        30\n",
      "\n"
     ]
    }
   ],
   "source": [
    "# Prepare data for model training using relevant numerical and categorical features\n",
    "# Create target variable 'Category' from 'Overdue' (already created earlier)\n",
    "# Select features: numerical ('Time Taken (hrs)', 'Days Until Deadline') and categorical ('Priority', 'Status')\n",
    "# Exclude non-predictive or text features\n",
    "# Use ColumnTransformer to one-hot encode categorical features and pass numerical features as-is\n",
    "# Fit and transform the feature set with this preprocessor\n",
    "\n",
    "from sklearn.model_selection import train_test_split\n",
    "from sklearn.preprocessing import OneHotEncoder\n",
    "from sklearn.compose import ColumnTransformer\n",
    "import numpy as np\n",
    "\n",
    "y = df['Category']\n",
    "features = ['Time Taken (hrs)', 'Priority', 'Status', 'Days Until Deadline']\n",
    "X = df[features].copy()\n",
    "\n",
    "categorical_features = ['Priority', 'Status']\n",
    "numerical_features = ['Time Taken (hrs)', 'Days Until Deadline']\n",
    "preprocessor = ColumnTransformer(\n",
    "    transformers=[\n",
    "        ('cat', OneHotEncoder(handle_unknown='ignore'), categorical_features),\n",
    "        ('num', 'passthrough', numerical_features)\n",
    "    ]\n",
    ")\n",
    "\n",
    "X_processed = preprocessor.fit_transform(X)\n",
    "\n",
    "# Split processed features and target into training and testing sets\n",
    "# Use stratified split to preserve class distribution\n",
    "X_train, X_test, y_train, y_test = train_test_split(\n",
    "    X_processed, y, test_size=0.3, random_state=42, stratify=y\n",
    ")\n",
    "\n",
    "# Print shapes to verify data preparation\n",
    "print(\"Shape of X_train:\", X_train.shape)\n",
    "print(\"Shape of y_train:\", y_train.shape)\n",
    "\n",
    "# Check class distribution in training data after stratified splitting\n",
    "print(\"\\nValue counts in y_train after splitting:\")\n",
    "print(y_train.value_counts())\n",
    "\n",
    "# %%\n",
    "# The Naive Bayes classifier is commented out because MultinomialNB cannot handle negative feature values\n",
    "# which may occur in 'Days Until Deadline' or after encoding.\n",
    "# Use other classifiers such as SVM instead.\n",
    "\n",
    "# %%\n",
    "# Train and evaluate Support Vector Machine (SVM) classifier using linear kernel\n",
    "# Check that training data contains at least two classes before fitting the model\n",
    "from sklearn.svm import SVC\n",
    "from sklearn.metrics import classification_report, accuracy_score\n",
    "\n",
    "svm_model = SVC(kernel='linear')\n",
    "unique_classes = np.unique(y_train)\n",
    "\n",
    "if len(unique_classes) < 2:\n",
    "    print(f\"Skipping SVM training: Only one class found in training data: {unique_classes[0]}\")\n",
    "else:\n",
    "    svm_model.fit(X_train, y_train)\n",
    "\n",
    "    y_pred_svm = svm_model.predict(X_test)\n",
    "\n",
    "   \n",
    "    print(\"SVM Classification Report:\")\n",
    "    print(classification_report(y_test, y_pred_svm))"
   ]
  },
  {
   "cell_type": "code",
   "execution_count": 32,
   "metadata": {},
   "outputs": [
    {
     "name": "stdout",
     "output_type": "stream",
     "text": [
      "              precision    recall  f1-score   support\n",
      "\n",
      "     On Time       0.94      1.00      0.97        15\n",
      "     Overdue       1.00      0.93      0.97        15\n",
      "\n",
      "    accuracy                           0.97        30\n",
      "   macro avg       0.97      0.97      0.97        30\n",
      "weighted avg       0.97      0.97      0.97        30\n",
      "\n"
     ]
    }
   ],
   "source": [
    "# Import classification_report to evaluate model performance\n",
    "# Print the classification report for SVM predictions on the test set\n",
    "# Specify target names to make the report easier to interpret (\"On Time\" and \"Overdue\")\n",
    "from sklearn.metrics import classification_report\n",
    "\n",
    "print(classification_report(y_test, y_pred_svm, target_names=[\"On Time\", \"Overdue\"]))"
   ]
  },
  {
   "cell_type": "code",
   "execution_count": 33,
   "metadata": {},
   "outputs": [
    {
     "name": "stdout",
     "output_type": "stream",
     "text": [
      "Accuracy: 0.9667\n",
      "Precision: 1.0000\n",
      "Recall: 0.9333\n"
     ]
    }
   ],
   "source": [
    "from sklearn.metrics import classification_report, accuracy_score, precision_score, recall_score\n",
    "\n",
    "# Calculate accuracy, precision, and recall for SVM predictions\n",
    "# Specify 'Overdue' as the positive class label for precision and recall calculations\n",
    "accuracy = accuracy_score(y_test, y_pred_svm)\n",
    "precision = precision_score(y_test, y_pred_svm, pos_label='Overdue')\n",
    "recall = recall_score(y_test, y_pred_svm, pos_label='Overdue')\n",
    "\n",
    "# Print the evaluation metrics with 4 decimal places\n",
    "print(f\"Accuracy: {accuracy:.4f}\")\n",
    "print(f\"Precision: {precision:.4f}\")\n",
    "print(f\"Recall: {recall:.4f}\")"
   ]
  },
  {
   "cell_type": "code",
   "execution_count": 35,
   "metadata": {},
   "outputs": [
    {
     "name": "stdout",
     "output_type": "stream",
     "text": [
      "                      Model  Accuracy  Precision    Recall\n",
      "0  SVM (Processed Features)  0.966667        1.0  0.933333\n"
     ]
    }
   ],
   "source": [
    "import pandas as pd\n",
    "from sklearn.metrics import classification_report, accuracy_score, precision_score, recall_score\n",
    "\n",
    "# Calculate evaluation metrics for the SVM model predictions\n",
    "accuracy = accuracy_score(y_test, y_pred_svm)\n",
    "precision = precision_score(y_test, y_pred_svm, pos_label='Overdue')  # Specify positive class\n",
    "recall = recall_score(y_test, y_pred_svm, pos_label='Overdue')\n",
    "\n",
    "# Create a DataFrame summarizing the SVM model's performance metrics\n",
    "# You can expand this DataFrame later to include other models for comparison\n",
    "results = pd.DataFrame({\n",
    "    'Model': ['SVM (Processed Features)'],  # Model name\n",
    "    'Accuracy': [accuracy],\n",
    "    'Precision': [precision],\n",
    "    'Recall': [recall]\n",
    "})\n",
    "print(results)"
   ]
  }
 ],
 "metadata": {
  "kernelspec": {
   "display_name": "Python 3",
   "language": "python",
   "name": "python3"
  },
  "language_info": {
   "codemirror_mode": {
    "name": "ipython",
    "version": 3
   },
   "file_extension": ".py",
   "mimetype": "text/x-python",
   "name": "python",
   "nbconvert_exporter": "python",
   "pygments_lexer": "ipython3",
   "version": "3.12.4"
  }
 },
 "nbformat": 4,
 "nbformat_minor": 2
}
